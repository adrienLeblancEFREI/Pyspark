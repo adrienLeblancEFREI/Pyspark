{
  "cells": [
    {
      "cell_type": "markdown",
      "metadata": {
        "id": "B4cWyxvyPcbD"
      },
      "source": [
        "# Lab 1 - Big Data Frameworks II\n",
        "## 27/11/2022 - Adrien Leblanc"
      ]
    },
    {
      "cell_type": "code",
      "execution_count": 1,
      "metadata": {
        "id": "WmI7S6_MqPZ6"
      },
      "outputs": [],
      "source": [
        "!apt-get install openjdk-8-jdk-headless -qq> /dev/null"
      ]
    },
    {
      "cell_type": "code",
      "execution_count": 2,
      "metadata": {
        "id": "6e9uUCINqwta"
      },
      "outputs": [],
      "source": [
        "!wget -q https://archive.apache.org/dist/spark/spark-3.0.0/spark-3.0.0-bin-hadoop3.2.tgz"
      ]
    },
    {
      "cell_type": "code",
      "execution_count": 3,
      "metadata": {
        "id": "73ahHz-irX4C"
      },
      "outputs": [],
      "source": [
        "!tar xf spark-3.0.0-bin-hadoop3.2.tgz"
      ]
    },
    {
      "cell_type": "code",
      "execution_count": 4,
      "metadata": {
        "colab": {
          "base_uri": "https://localhost:8080/"
        },
        "id": "7U7tR5Znul5v",
        "outputId": "7d0e8914-9afa-473b-a05a-881555a6dc2d"
      },
      "outputs": [
        {
          "name": "stdout",
          "output_type": "stream",
          "text": [
            "Looking in indexes: https://pypi.org/simple, https://us-python.pkg.dev/colab-wheels/public/simple/\n",
            "Collecting findspark\n",
            "  Downloading findspark-2.0.1-py2.py3-none-any.whl (4.4 kB)\n",
            "Installing collected packages: findspark\n",
            "Successfully installed findspark-2.0.1\n"
          ]
        }
      ],
      "source": [
        "!pip install findspark"
      ]
    },
    {
      "cell_type": "code",
      "execution_count": 5,
      "metadata": {
        "id": "CTkGBiFatR_z"
      },
      "outputs": [],
      "source": [
        "# set spark folder to the system path env\n",
        "import os\n",
        "os.environ[\"JAVA_home\"] = \"/usr/lib/jvm/java-8-openjdk-amd64\"\n",
        "os.environ[\"SPARK_HOME\"] = \"/content/spark-3.0.0-bin-hadoop3.2\""
      ]
    },
    {
      "cell_type": "code",
      "execution_count": 6,
      "metadata": {
        "id": "Wq9h9r_jup8k"
      },
      "outputs": [],
      "source": [
        "import findspark\n",
        "findspark.init()\n",
        "from pyspark.sql import SparkSession\n",
        "spark = SparkSession.builder.master(\"local[*]\").getOrCreate()"
      ]
    },
    {
      "cell_type": "code",
      "execution_count": null,
      "metadata": {
        "colab": {
          "base_uri": "https://localhost:8080/",
          "height": 1000
        },
        "id": "4VaSjkOtvbXG",
        "outputId": "c7b851af-7077-442a-9555-ef0d343206cf"
      },
      "outputs": [],
      "source": [
        "from google.colab import files\n",
        "files.upload()"
      ]
    },
    {
      "cell_type": "code",
      "execution_count": 8,
      "metadata": {
        "colab": {
          "base_uri": "https://localhost:8080/"
        },
        "id": "zzULqAxyKNtq",
        "outputId": "a80a5686-97bf-4190-875a-7ce349752780"
      },
      "outputs": [
        {
          "name": "stdout",
          "output_type": "stream",
          "text": [
            "BostonHousing.csv  ContratCallsData2.csv      spark-3.0.0-bin-hadoop3.2.tgz\n",
            "CallsData.csv\t   sample_data\n",
            "ContractData.csv   spark-3.0.0-bin-hadoop3.2\n"
          ]
        }
      ],
      "source": [
        "!ls"
      ]
    },
    {
      "cell_type": "code",
      "execution_count": 9,
      "metadata": {
        "id": "qNZHWVuhKn5o"
      },
      "outputs": [],
      "source": [
        "dataset = spark.read.csv('BostonHousing.csv', inferSchema=True, header=True)"
      ]
    },
    {
      "cell_type": "code",
      "execution_count": 10,
      "metadata": {
        "colab": {
          "base_uri": "https://localhost:8080/"
        },
        "id": "squD_iTwLBe3",
        "outputId": "895e8cc0-2ecc-49d8-cc41-9be711cfd3e5"
      },
      "outputs": [
        {
          "name": "stdout",
          "output_type": "stream",
          "text": [
            "root\n",
            " |-- crim: double (nullable = true)\n",
            " |-- zn: double (nullable = true)\n",
            " |-- indus: double (nullable = true)\n",
            " |-- chas: integer (nullable = true)\n",
            " |-- nox: double (nullable = true)\n",
            " |-- rm: double (nullable = true)\n",
            " |-- age: double (nullable = true)\n",
            " |-- dis: double (nullable = true)\n",
            " |-- rad: integer (nullable = true)\n",
            " |-- tax: integer (nullable = true)\n",
            " |-- ptratio: double (nullable = true)\n",
            " |-- b: double (nullable = true)\n",
            " |-- lstat: double (nullable = true)\n",
            " |-- medv: double (nullable = true)\n",
            "\n"
          ]
        }
      ],
      "source": [
        "dataset.printSchema()"
      ]
    },
    {
      "cell_type": "code",
      "execution_count": 11,
      "metadata": {
        "id": "YQ67fHPtOoNr"
      },
      "outputs": [],
      "source": [
        "from pyspark.ml.feature import VectorAssembler\n",
        "from pyspark.ml.regression import LinearRegression"
      ]
    },
    {
      "cell_type": "code",
      "execution_count": 12,
      "metadata": {
        "colab": {
          "base_uri": "https://localhost:8080/"
        },
        "id": "SWRBSp3VOzf7",
        "outputId": "cdd0dcac-f852-4e46-d60e-3d9bab869b2c"
      },
      "outputs": [
        {
          "name": "stdout",
          "output_type": "stream",
          "text": [
            "+--------------------+----+\n",
            "|          Attributes|medv|\n",
            "+--------------------+----+\n",
            "|[0.00632,18.0,2.3...|24.0|\n",
            "|[0.02731,0.0,7.07...|21.6|\n",
            "|[0.02729,0.0,7.07...|34.7|\n",
            "|[0.03237,0.0,2.18...|33.4|\n",
            "|[0.06905,0.0,2.18...|36.2|\n",
            "|[0.02985,0.0,2.18...|28.7|\n",
            "|[0.08829,12.5,7.8...|22.9|\n",
            "|[0.14455,12.5,7.8...|27.1|\n",
            "|[0.21124,12.5,7.8...|16.5|\n",
            "|[0.17004,12.5,7.8...|18.9|\n",
            "|[0.22489,12.5,7.8...|15.0|\n",
            "|[0.11747,12.5,7.8...|18.9|\n",
            "|[0.09378,12.5,7.8...|21.7|\n",
            "|[0.62976,0.0,8.14...|20.4|\n",
            "|[0.63796,0.0,8.14...|18.2|\n",
            "|[0.62739,0.0,8.14...|19.9|\n",
            "|[1.05393,0.0,8.14...|23.1|\n",
            "|[0.7842,0.0,8.14,...|17.5|\n",
            "|[0.80271,0.0,8.14...|20.2|\n",
            "|[0.7258,0.0,8.14,...|18.2|\n",
            "+--------------------+----+\n",
            "only showing top 20 rows\n",
            "\n"
          ]
        }
      ],
      "source": [
        "# input features in one vector column\n",
        "\n",
        "assembler = VectorAssembler(inputCols=['crim','zn','indus','chas','nox','rm','age','dis','rad','tax','ptratio','b','lstat'], outputCol='Attributes')\n",
        "output = assembler.transform(dataset)\n",
        "\n",
        "# input vs output\n",
        "\n",
        "finalized_data = output.select(\"Attributes\",\"medv\")\n",
        "finalized_data.show()"
      ]
    },
    {
      "cell_type": "code",
      "execution_count": 13,
      "metadata": {
        "id": "VGcrCb7jQFtP"
      },
      "outputs": [],
      "source": [
        "#split dataset\n",
        "train_data,test_data = finalized_data.randomSplit([0.8,0.2])"
      ]
    },
    {
      "cell_type": "code",
      "execution_count": 14,
      "metadata": {
        "colab": {
          "base_uri": "https://localhost:8080/"
        },
        "id": "HrL5ANtaQbxf",
        "outputId": "10ebca1a-21f7-4c89-a53a-10a22166e03c"
      },
      "outputs": [
        {
          "name": "stdout",
          "output_type": "stream",
          "text": [
            "+--------------------+----+------------------+\n",
            "|          Attributes|medv|        prediction|\n",
            "+--------------------+----+------------------+\n",
            "|[0.01096,55.0,2.2...|22.0| 27.60627478718422|\n",
            "|[0.01501,80.0,2.0...|24.5|27.531217260351525|\n",
            "|[0.01778,95.0,1.4...|32.9|30.685134578608356|\n",
            "|[0.0187,85.0,4.15...|23.1|25.236107233508843|\n",
            "|[0.02177,82.5,2.0...|42.3| 37.30722069690597|\n",
            "|[0.02187,60.0,2.9...|31.1| 32.24717646736025|\n",
            "|[0.03041,0.0,5.19...|18.5|19.166929861288352|\n",
            "|[0.03049,55.0,3.7...|31.2|  28.4354490161788|\n",
            "|[0.0315,95.0,1.47...|34.9|30.054334967787636|\n",
            "|[0.03306,0.0,5.19...|20.6| 21.96006235815663|\n",
            "|[0.03548,80.0,3.6...|20.9| 21.76197315254866|\n",
            "|[0.03578,20.0,3.3...|45.4| 39.30375561966527|\n",
            "|[0.03615,80.0,4.9...|27.9|31.545814580061354|\n",
            "|[0.03705,20.0,3.3...|35.4| 34.53731298349525|\n",
            "|[0.04011,80.0,1.5...|33.3| 36.42697313781645|\n",
            "|[0.0456,0.0,13.89...|23.3|26.439780277603557|\n",
            "|[0.04666,80.0,1.5...|30.3| 33.16872968931635|\n",
            "|[0.04932,33.0,2.1...|28.2| 32.52560944563219|\n",
            "|[0.05023,35.0,6.0...|17.1| 20.12689459029354|\n",
            "|[0.05188,0.0,4.49...|22.5|  22.3366857199926|\n",
            "+--------------------+----+------------------+\n",
            "only showing top 20 rows\n",
            "\n"
          ]
        }
      ],
      "source": [
        "from IPython.testing import test\n",
        "regressor = LinearRegression(featuresCol='Attributes', labelCol='medv')\n",
        "#fit model from train set\n",
        "regressor = regressor.fit(train_data)\n",
        "\n",
        "#predict prices on test set\n",
        "pred = regressor.evaluate(test_data)\n",
        "\n",
        "#predict model\n",
        "pred.predictions.show()"
      ]
    },
    {
      "cell_type": "code",
      "execution_count": 15,
      "metadata": {
        "colab": {
          "base_uri": "https://localhost:8080/"
        },
        "id": "sku1iE8kQ4fj",
        "outputId": "50828cb5-19a8-4c49-8fe2-fc4e7bbe91c6"
      },
      "outputs": [
        {
          "name": "stdout",
          "output_type": "stream",
          "text": [
            "The coefficient of the model is : DenseVector([-0.1201, 0.0414, 0.0496, 2.3856, -19.672, 4.2999, -0.0002, -1.3913, 0.2928, -0.0127, -0.9857, 0.0088, -0.4658])\n",
            "The intercept of the model is : 34.273315\n"
          ]
        }
      ],
      "source": [
        "#coeff of the model\n",
        "coeff = regressor.coefficients\n",
        "#X and Y intercept\n",
        "intr = regressor.intercept\n",
        "print('The coefficient of the model is : %a' %coeff)\n",
        "print('The intercept of the model is : %f' %intr)"
      ]
    },
    {
      "cell_type": "code",
      "execution_count": 16,
      "metadata": {
        "colab": {
          "base_uri": "https://localhost:8080/"
        },
        "id": "oIyFveCGRe7J",
        "outputId": "1f0d8e87-1ec3-437e-f7da-20a49d2baa66"
      },
      "outputs": [
        {
          "name": "stdout",
          "output_type": "stream",
          "text": [
            "RMSE: 4.959\n",
            "MSE: 24.588\n",
            "MAE: 3.124\n"
          ]
        }
      ],
      "source": [
        "#Evaluation of the model\n",
        "\n",
        "from pyspark.ml.evaluation import RegressionEvaluator\n",
        "eval = RegressionEvaluator(labelCol=\"medv\", predictionCol=\"prediction\", metricName=\"rmse\")\n",
        "\n",
        "#root mean square error\n",
        "rmse = eval.evaluate(pred.predictions)\n",
        "print(\"RMSE: %.3f\" %rmse)\n",
        "\n",
        "#Mean square error\n",
        "mse = eval.evaluate(pred.predictions, {eval.metricName:\"mse\"})\n",
        "print(\"MSE: %.3f\" %mse)\n",
        "\n",
        "#Mean absolute error\n",
        "mae = eval.evaluate(pred.predictions, {eval.metricName:\"mae\"})\n",
        "print(\"MAE: %.3f\" %mae)"
      ]
    },
    {
      "cell_type": "code",
      "execution_count": 17,
      "metadata": {
        "colab": {
          "base_uri": "https://localhost:8080/"
        },
        "id": "S6ejrBSzS_Ap",
        "outputId": "781b9017-a1e0-47ba-b15e-0ed9d7b20f95"
      },
      "outputs": [
        {
          "name": "stdout",
          "output_type": "stream",
          "text": [
            "r2: 0.706\n"
          ]
        }
      ],
      "source": [
        "# r2 - coefficient of determination\n",
        "r2 = eval.evaluate(pred.predictions, {eval.metricName:\"r2\"})\n",
        "print(\"r2: %.3f\" %r2)"
      ]
    },
    {
      "cell_type": "code",
      "execution_count": 18,
      "metadata": {
        "id": "ynMB63vhTL1J"
      },
      "outputs": [],
      "source": [
        "#Clustering the dataset\n",
        "from pyspark.ml.clustering import KMeans\n",
        "from pyspark.ml.evaluation import ClusteringEvaluator"
      ]
    },
    {
      "cell_type": "code",
      "execution_count": 19,
      "metadata": {
        "colab": {
          "base_uri": "https://localhost:8080/"
        },
        "id": "gPfOP4KjTYtr",
        "outputId": "0b70168b-d87c-4082-d0cd-0528b81309f9"
      },
      "outputs": [
        {
          "name": "stdout",
          "output_type": "stream",
          "text": [
            "+--------------------+----+----------+\n",
            "|          Attributes|medv|prediction|\n",
            "+--------------------+----+----------+\n",
            "|[0.00632,18.0,2.3...|24.0|         0|\n",
            "|[0.02731,0.0,7.07...|21.6|         0|\n",
            "|[0.02729,0.0,7.07...|34.7|         0|\n",
            "|[0.03237,0.0,2.18...|33.4|         0|\n",
            "|[0.06905,0.0,2.18...|36.2|         0|\n",
            "|[0.02985,0.0,2.18...|28.7|         0|\n",
            "|[0.08829,12.5,7.8...|22.9|         0|\n",
            "|[0.14455,12.5,7.8...|27.1|         0|\n",
            "|[0.21124,12.5,7.8...|16.5|         0|\n",
            "|[0.17004,12.5,7.8...|18.9|         0|\n",
            "|[0.22489,12.5,7.8...|15.0|         0|\n",
            "|[0.11747,12.5,7.8...|18.9|         0|\n",
            "|[0.09378,12.5,7.8...|21.7|         0|\n",
            "|[0.62976,0.0,8.14...|20.4|         0|\n",
            "|[0.63796,0.0,8.14...|18.2|         0|\n",
            "|[0.62739,0.0,8.14...|19.9|         0|\n",
            "|[1.05393,0.0,8.14...|23.1|         0|\n",
            "|[0.7842,0.0,8.14,...|17.5|         0|\n",
            "|[0.80271,0.0,8.14...|20.2|         0|\n",
            "|[0.7258,0.0,8.14,...|18.2|         0|\n",
            "+--------------------+----+----------+\n",
            "only showing top 20 rows\n",
            "\n"
          ]
        }
      ],
      "source": [
        "\n",
        "#Trains a k-means model\n",
        "kmeans = KMeans(featuresCol='Attributes').setK(2).setSeed(1)\n",
        "model = kmeans.fit(finalized_data)\n",
        "\n",
        "#make predictions\n",
        "predictions = model.transform(finalized_data)\n",
        "predictions.show()"
      ]
    },
    {
      "cell_type": "code",
      "execution_count": 49,
      "metadata": {
        "colab": {
          "base_uri": "https://localhost:8080/"
        },
        "id": "3rkNdQgbUEbb",
        "outputId": "74082c92-addb-4880-c82f-04dbd51498d3"
      },
      "outputs": [
        {
          "name": "stdout",
          "output_type": "stream",
          "text": [
            "+-------------+--------+--------+----------+---------+--------------+---------+----------+---------+----------+-----------+------------+----------+-----------+---------+--------+\n",
            "|VMail Message|Day Mins|Eve Mins|Night Mins|Intl Mins|CustServ Calls|Day Calls|Day Charge|Eve Calls|Eve Charge|Night Calls|Night Charge|Intl Calls|Intl Charge|Area Code|   Phone|\n",
            "+-------------+--------+--------+----------+---------+--------------+---------+----------+---------+----------+-----------+------------+----------+-----------+---------+--------+\n",
            "|           25|   265.1|   197.4|     244.7|     10.0|             1|      110|     45.07|       99|     16.78|         91|       11.01|         3|        2.7|      415|382-4657|\n",
            "|           26|   161.6|   195.5|     254.4|     13.7|             1|      123|     27.47|      103|     16.62|        103|       11.45|         3|        3.7|      415|371-7191|\n",
            "|            0|   243.4|   121.2|     162.6|     12.2|             0|      114|     41.38|      110|      10.3|        104|        7.32|         5|       3.29|      415|358-1921|\n",
            "+-------------+--------+--------+----------+---------+--------------+---------+----------+---------+----------+-----------+------------+----------+-----------+---------+--------+\n",
            "only showing top 3 rows\n",
            "\n",
            "+--------------+-----+----------+----------+-----+---------+--------+\n",
            "|Account Length|Churn|Int'l Plan|VMail Plan|State|Area Code|   Phone|\n",
            "+--------------+-----+----------+----------+-----+---------+--------+\n",
            "|           128|    0|         0|         1|   KS|      415|382-4657|\n",
            "|           107|    0|         0|         1|   OH|      415|371-7191|\n",
            "|           137|    0|         0|         0|   NJ|      415|358-1921|\n",
            "+--------------+-----+----------+----------+-----+---------+--------+\n",
            "only showing top 3 rows\n",
            "\n"
          ]
        }
      ],
      "source": [
        "#Churn analysis in Spark\n",
        "\n",
        "datasetCalls = spark.read.csv('CallsData.csv', header=True, inferSchema=True)\n",
        "datasetContract = spark.read.csv('ContractData.csv', header=True, inferSchema=True)\n",
        "\n",
        "datasetCalls.show(3)\n",
        "datasetContract.show(3)"
      ]
    },
    {
      "cell_type": "code",
      "execution_count": 50,
      "metadata": {
        "id": "uiDit2VALVt9"
      },
      "outputs": [],
      "source": [
        "# Left join the 2 datasets on the phone number\n",
        "dataset = datasetContract.join(datasetCalls,datasetContract.Phone ==  datasetCalls.Phone,\"left\")\n"
      ]
    },
    {
      "cell_type": "code",
      "execution_count": 51,
      "metadata": {
        "colab": {
          "base_uri": "https://localhost:8080/"
        },
        "id": "N94RPQR4MdJL",
        "outputId": "6751cf5a-8e77-473c-90b3-221845c47da2"
      },
      "outputs": [
        {
          "name": "stdout",
          "output_type": "stream",
          "text": [
            "+--------------+-----+----------+----------+-----+---------+--------+-------------+--------+--------+----------+---------+--------------+---------+----------+---------+----------+-----------+------------+----------+-----------+---------+--------+\n",
            "|Account Length|Churn|Int'l Plan|VMail Plan|State|Area Code|   Phone|VMail Message|Day Mins|Eve Mins|Night Mins|Intl Mins|CustServ Calls|Day Calls|Day Charge|Eve Calls|Eve Charge|Night Calls|Night Charge|Intl Calls|Intl Charge|Area Code|   Phone|\n",
            "+--------------+-----+----------+----------+-----+---------+--------+-------------+--------+--------+----------+---------+--------------+---------+----------+---------+----------+-----------+------------+----------+-----------+---------+--------+\n",
            "|           128|    0|         0|         1|   KS|      415|382-4657|           25|   265.1|   197.4|     244.7|     10.0|             1|      110|     45.07|       99|     16.78|         91|       11.01|         3|        2.7|      415|382-4657|\n",
            "|           107|    0|         0|         1|   OH|      415|371-7191|           26|   161.6|   195.5|     254.4|     13.7|             1|      123|     27.47|      103|     16.62|        103|       11.45|         3|        3.7|      415|371-7191|\n",
            "|           137|    0|         0|         0|   NJ|      415|358-1921|            0|   243.4|   121.2|     162.6|     12.2|             0|      114|     41.38|      110|      10.3|        104|        7.32|         5|       3.29|      415|358-1921|\n",
            "|            84|    0|         1|         0|   OH|      408|375-9999|            0|   299.4|    61.9|     196.9|      6.6|             2|       71|      50.9|       88|      5.26|         89|        8.86|         7|       1.78|      408|375-9999|\n",
            "|            75|    0|         1|         0|   OK|      415|330-6626|            0|   166.7|   148.3|     186.9|     10.1|             3|      113|     28.34|      122|     12.61|        121|        8.41|         3|       2.73|      415|330-6626|\n",
            "+--------------+-----+----------+----------+-----+---------+--------+-------------+--------+--------+----------+---------+--------------+---------+----------+---------+----------+-----------+------------+----------+-----------+---------+--------+\n",
            "only showing top 5 rows\n",
            "\n"
          ]
        }
      ],
      "source": [
        "dataset.show(5)"
      ]
    },
    {
      "cell_type": "code",
      "execution_count": 52,
      "metadata": {
        "colab": {
          "base_uri": "https://localhost:8080/"
        },
        "id": "S4432LusfcZC",
        "outputId": "5c796818-deac-4001-d27d-c6b05f54869c"
      },
      "outputs": [
        {
          "name": "stdout",
          "output_type": "stream",
          "text": [
            "root\n",
            " |-- Account Length: integer (nullable = true)\n",
            " |-- Churn: integer (nullable = true)\n",
            " |-- Int'l Plan: integer (nullable = true)\n",
            " |-- VMail Plan: integer (nullable = true)\n",
            " |-- State: string (nullable = true)\n",
            " |-- Area Code: integer (nullable = true)\n",
            " |-- Phone: string (nullable = true)\n",
            " |-- VMail Message: integer (nullable = true)\n",
            " |-- Day Mins: double (nullable = true)\n",
            " |-- Eve Mins: double (nullable = true)\n",
            " |-- Night Mins: double (nullable = true)\n",
            " |-- Intl Mins: double (nullable = true)\n",
            " |-- CustServ Calls: integer (nullable = true)\n",
            " |-- Day Calls: integer (nullable = true)\n",
            " |-- Day Charge: double (nullable = true)\n",
            " |-- Eve Calls: integer (nullable = true)\n",
            " |-- Eve Charge: double (nullable = true)\n",
            " |-- Night Calls: integer (nullable = true)\n",
            " |-- Night Charge: double (nullable = true)\n",
            " |-- Intl Calls: integer (nullable = true)\n",
            " |-- Intl Charge: double (nullable = true)\n",
            " |-- Area Code: integer (nullable = true)\n",
            " |-- Phone: string (nullable = true)\n",
            "\n",
            "dataset Columns count : 23\n",
            "\n"
          ]
        }
      ],
      "source": [
        "dataset.printSchema()\n",
        "print(f\"dataset Columns count : {len(dataset.columns)}\\n\")"
      ]
    },
    {
      "cell_type": "code",
      "execution_count": 53,
      "metadata": {
        "colab": {
          "base_uri": "https://localhost:8080/"
        },
        "id": "fqkidqxMf2DJ",
        "outputId": "f009ed1c-880d-46c5-aaef-b84a83eb1a85"
      },
      "outputs": [
        {
          "name": "stdout",
          "output_type": "stream",
          "text": [
            "+-------+------------------+-------------------+------------------+-------------------+-----+------------------+--------+------------------+------------------+------------------+------------------+------------------+------------------+------------------+------------------+------------------+------------------+------------------+-----------------+------------------+------------------+------------------+--------+\n",
            "|summary|    Account Length|              Churn|        Int'l Plan|         VMail Plan|State|         Area Code|   Phone|     VMail Message|          Day Mins|          Eve Mins|        Night Mins|         Intl Mins|    CustServ Calls|         Day Calls|        Day Charge|         Eve Calls|        Eve Charge|       Night Calls|     Night Charge|        Intl Calls|       Intl Charge|         Area Code|   Phone|\n",
            "+-------+------------------+-------------------+------------------+-------------------+-----+------------------+--------+------------------+------------------+------------------+------------------+------------------+------------------+------------------+------------------+------------------+------------------+------------------+-----------------+------------------+------------------+------------------+--------+\n",
            "|  count|              3333|               3333|              3333|               3333| 3333|              3333|    3333|              3333|              3333|              3333|              3333|              3333|              3333|              3333|              3333|              3333|              3333|              3333|             3333|              3333|              3333|              3333|    3333|\n",
            "|   mean|101.06480648064806|0.14491449144914492|0.0969096909690969|0.27662766276627665| null|437.18241824182417|    null| 8.099009900990099|179.77509750975116|200.98034803480346|200.87203720372048|10.237293729372933|1.5628562856285628|100.43564356435644|30.562307230723093|100.11431143114311|17.083540354035392|100.10771077107711|9.039324932493264|4.4794479447944795| 2.764581458145804|437.18241824182417|    null|\n",
            "| stddev|39.822105928595676|  0.352067423624126|0.2958791454844147| 0.4473978703800645| null| 42.37129048560661|    null|13.688365372038598| 54.46738920237146|50.713844425811985| 50.57384701365836| 2.791839548408416|1.3154910448664752|20.069084207300893| 9.259434553930495| 19.92262529394312| 4.310667643110347|19.568609346058544|2.275872837660027|2.4612142705460953|0.7537726126630451| 42.37129048560661|    null|\n",
            "|    min|                 1|                  0|                 0|                  0|   AK|               408|327-1058|                 0|               0.0|               0.0|              23.2|               0.0|                 0|                 0|               0.0|                 0|               0.0|                33|             1.04|                 0|               0.0|               408|327-1058|\n",
            "|    max|               243|                  1|                 1|                  1|   WY|               510|422-9964|                51|             350.8|             363.7|             395.0|              20.0|                 9|               165|             59.64|               170|             30.91|               175|            17.77|                20|               5.4|               510|422-9964|\n",
            "+-------+------------------+-------------------+------------------+-------------------+-----+------------------+--------+------------------+------------------+------------------+------------------+------------------+------------------+------------------+------------------+------------------+------------------+------------------+-----------------+------------------+------------------+------------------+--------+\n",
            "\n"
          ]
        }
      ],
      "source": [
        "dataset.describe().show()"
      ]
    },
    {
      "cell_type": "markdown",
      "metadata": {
        "id": "YEWrG_UjNeai"
      },
      "source": [
        "The data is multivariate because we have several features."
      ]
    },
    {
      "cell_type": "code",
      "execution_count": 98,
      "metadata": {
        "id": "1qPlozVFkLbO"
      },
      "outputs": [],
      "source": [
        "#Normalization\n",
        "from pyspark.ml.linalg import Vectors\n",
        "from pyspark.ml.feature import VectorAssembler\n",
        "from pyspark.ml.feature import StandardScaler\n",
        "\n",
        "features_col = ['Account Length', \"Int'l Plan\",'VMail Plan', 'VMail Message', 'Day Mins', 'Eve Mins', 'Night Mins', 'Intl Mins', 'CustServ Calls', 'Day Calls', 'Day Charge', 'Eve Calls', 'Eve Charge', 'Night Calls', 'Night Charge', 'Intl Calls', 'Intl Charge']\n",
        "vec_assembler = VectorAssembler(inputCols = features_col, outputCol='features')\n",
        "final_data = vec_assembler.transform(dataset)\n",
        "\n",
        "scaler = StandardScaler(inputCol=\"features\", outputCol=\"scaledFeatures\", withStd=True, withMean=False)\n",
        "scalerModel = scaler.fit(final_data)\n",
        "cluster_final_data = scalerModel.transform(final_data)"
      ]
    },
    {
      "cell_type": "markdown",
      "metadata": {
        "id": "5fy6dvqmON75"
      },
      "source": [
        "Every dataset does not require normalization. It is required only when features have different ranges."
      ]
    },
    {
      "cell_type": "code",
      "execution_count": 99,
      "metadata": {
        "id": "XgqwF2kyORYm"
      },
      "outputs": [],
      "source": [
        "# Clustering with K-means\n",
        "\n",
        "kmeans18 = KMeans(featuresCol='scaledFeatures',k=18)\n",
        "kmeans10 = KMeans(featuresCol='scaledFeatures',k=10)\n",
        "kmeans5 = KMeans(featuresCol='scaledFeatures',k=5)\n",
        "kmeans3 = KMeans(featuresCol='scaledFeatures',k=3)\n",
        "kmeans2 = KMeans(featuresCol='scaledFeatures',k=2)"
      ]
    },
    {
      "cell_type": "code",
      "execution_count": 100,
      "metadata": {
        "id": "lk0hbk5lpSuo"
      },
      "outputs": [],
      "source": [
        "model18 = kmeans18.fit(cluster_final_data)\n",
        "model10 = kmeans10.fit(cluster_final_data)\n",
        "model5 = kmeans5.fit(cluster_final_data)\n",
        "model3 = kmeans3.fit(cluster_final_data)\n",
        "model2 = kmeans2.fit(cluster_final_data)"
      ]
    },
    {
      "cell_type": "code",
      "execution_count": 101,
      "metadata": {
        "id": "yZZ052Hwpq34"
      },
      "outputs": [],
      "source": [
        "# Make predictions\n",
        "predictions18 = model18.transform(cluster_final_data)\n",
        "predictions10 = model10.transform(cluster_final_data)\n",
        "predictions5 = model5.transform(cluster_final_data)\n",
        "predictions3 = model3.transform(cluster_final_data)\n",
        "predictions2 = model2.transform(cluster_final_data)"
      ]
    },
    {
      "cell_type": "code",
      "execution_count": 102,
      "metadata": {
        "colab": {
          "base_uri": "https://localhost:8080/"
        },
        "id": "qrCYQl5Vphfg",
        "outputId": "126b9620-7cb2-4f22-e4e1-2878d13534ea"
      },
      "outputs": [
        {
          "name": "stdout",
          "output_type": "stream",
          "text": [
            "With k=18 Silhouette with squared euclidean distance = -0.03458990013228553\n",
            "With k=10 Silhouette with squared euclidean distance = -0.04853339116626266\n",
            "With k=5 Silhouette with squared euclidean distance = 0.10219139540541831\n",
            "With k=3 Silhouette with squared euclidean distance = 0.08874358317835501\n",
            "With k=2 Silhouette with squared euclidean distance = 0.23681608723557518\n"
          ]
        }
      ],
      "source": [
        "# Evaluate clustering by computing Silhouette score\n",
        "evaluator = ClusteringEvaluator()\n",
        "\n",
        "silhouette = evaluator.evaluate(predictions18)\n",
        "print(\"With k=18 Silhouette with squared euclidean distance = \" + str(silhouette))\n",
        "silhouette = evaluator.evaluate(predictions10)\n",
        "print(\"With k=10 Silhouette with squared euclidean distance = \" + str(silhouette))\n",
        "silhouette = evaluator.evaluate(predictions5)\n",
        "print(\"With k=5 Silhouette with squared euclidean distance = \" + str(silhouette))\n",
        "silhouette = evaluator.evaluate(predictions3)\n",
        "print(\"With k=3 Silhouette with squared euclidean distance = \" + str(silhouette))\n",
        "silhouette = evaluator.evaluate(predictions2)\n",
        "print(\"With k=2 Silhouette with squared euclidean distance = \" + str(silhouette))"
      ]
    },
    {
      "cell_type": "code",
      "execution_count": 103,
      "metadata": {
        "colab": {
          "base_uri": "https://localhost:8080/"
        },
        "id": "7aHBIe4hqbFX",
        "outputId": "6c270fbf-8dbd-4430-b8f7-3e282a6b7020"
      },
      "outputs": [
        {
          "name": "stdout",
          "output_type": "stream",
          "text": [
            "With K=2\n",
            "Silhouette with squared euclidean distance = 0.23681608723557518\n",
            "------------------------------------------------------------\n",
            "With K=3\n",
            "Silhouette with squared euclidean distance = 0.08874358317835501\n",
            "------------------------------------------------------------\n",
            "With K=4\n",
            "Silhouette with squared euclidean distance = 0.09520265015253092\n",
            "------------------------------------------------------------\n",
            "With K=5\n",
            "Silhouette with squared euclidean distance = 0.10219139540541831\n",
            "------------------------------------------------------------\n",
            "With K=6\n",
            "Silhouette with squared euclidean distance = 0.045415614852410205\n",
            "------------------------------------------------------------\n",
            "With K=7\n",
            "Silhouette with squared euclidean distance = 0.04744679156766194\n",
            "------------------------------------------------------------\n",
            "With K=8\n",
            "Silhouette with squared euclidean distance = 0.015589813218576113\n",
            "------------------------------------------------------------\n",
            "With K=9\n",
            "Silhouette with squared euclidean distance = -0.016346433938747462\n",
            "------------------------------------------------------------\n",
            "With K=10\n",
            "Silhouette with squared euclidean distance = -0.04853339116626266\n",
            "------------------------------------------------------------\n"
          ]
        }
      ],
      "source": [
        "silhouette_scores=[]\n",
        "\n",
        "for k in range(2,11):\n",
        "    kmeans = KMeans(featuresCol='scaledFeatures',k=k)\n",
        "    model = kmeans.fit(cluster_final_data)\n",
        "    predictions = model.transform(cluster_final_data)\n",
        "    evaluator = ClusteringEvaluator()\n",
        "    silhouette = evaluator.evaluate(predictions)\n",
        "    silhouette_scores.append(silhouette)\n",
        "    print(\"With K={}\".format(k))\n",
        "    print(\"Silhouette with squared euclidean distance = \" + str(silhouette))\n",
        "    print('--'*30)"
      ]
    },
    {
      "cell_type": "code",
      "execution_count": 104,
      "metadata": {
        "colab": {
          "base_uri": "https://localhost:8080/",
          "height": 516
        },
        "id": "axsW4EeRO9t-",
        "outputId": "a91da78a-b4bd-4997-9e4a-7ac9b245fff4"
      },
      "outputs": [
        {
          "data": {
            "text/plain": [
              "Text(0, 0.5, 'Silhouette Score')"
            ]
          },
          "execution_count": 104,
          "metadata": {},
          "output_type": "execute_result"
        },
        {
          "data": {
            "image/png": "[encoded data removed]",
            "text/plain": [
              "<Figure size 720x576 with 1 Axes>"
            ]
          },
          "metadata": {
            "needs_background": "light"
          },
          "output_type": "display_data"
        }
      ],
      "source": [
        "#Visualization\n",
        "import matplotlib.pyplot as plt\n",
        "fig, ax = plt.subplots(1,1, figsize =(10,8))\n",
        "ax.plot(range(2,11),silhouette_scores[0:9])\n",
        "ax.set_xlabel('Number of Clusters')\n",
        "ax.set_ylabel('Silhouette Score')"
      ]
    },
    {
      "cell_type": "code",
      "execution_count": 114,
      "metadata": {
        "colab": {
          "base_uri": "https://localhost:8080/"
        },
        "id": "P5lM-zRtO8pL",
        "outputId": "9b865190-1a32-463b-fc96-4e17d8e1e00f"
      },
      "outputs": [
        {
          "name": "stdout",
          "output_type": "stream",
          "text": [
            "+----------+-----+\n",
            "|prediction|count|\n",
            "+----------+-----+\n",
            "|         0| 1642|\n",
            "|         1| 1691|\n",
            "+----------+-----+\n",
            "\n",
            "+----------+-----+\n",
            "|prediction|count|\n",
            "+----------+-----+\n",
            "|         0|  887|\n",
            "|         1|  591|\n",
            "|         2|  658|\n",
            "|         3|  573|\n",
            "|         4|  624|\n",
            "+----------+-----+\n",
            "\n"
          ]
        }
      ],
      "source": [
        "model2.transform(cluster_final_data).groupBy('prediction').count().orderBy('prediction').show()\n",
        "model5.transform(cluster_final_data).groupBy('prediction').count().orderBy('prediction').show()"
      ]
    },
    {
      "cell_type": "markdown",
      "metadata": {
        "id": "M-pxPYNFOttQ"
      },
      "source": [
        "The best number of k-neighbour is probably 2 or 5 as a local maximum. Plots will help to confirm that.\n",
        "\n",
        "Scikit-learn documentation says : \"Silhouette coefficients (as these values are referred to as) near +1 indicate that the sample is far away from the neighboring clusters. A value of 0 indicates that the sample is on or very close to the decision boundary between two neighboring clusters and negative values indicate that those samples might have been assigned to the wrong cluster.\""
      ]
    },
    {
      "cell_type": "markdown",
      "metadata": {
        "id": "HkKCS1MfPGp2"
      },
      "source": [
        "The dimension reduction suits this task because it is impossible to visualize the data over 3dimensions"
      ]
    },
    {
      "cell_type": "code",
      "execution_count": 107,
      "metadata": {
        "id": "8nrdpjQYz6fR"
      },
      "outputs": [],
      "source": [
        "# Dimension reduction with PCA\n",
        "\n",
        "from pyspark.ml.feature import PCA as PCAml\n",
        "pca = PCAml(k=2, inputCol=\"features\", outputCol=\"pca\")\n",
        "pca_model = pca.fit(cluster_final_data)\n",
        "pca_transformed = pca_model.transform(cluster_final_data)"
      ]
    },
    {
      "cell_type": "code",
      "execution_count": 118,
      "metadata": {
        "id": "9CQZUp0v0VZy"
      },
      "outputs": [],
      "source": [
        "import numpy as np\n",
        "x_pca = np.array(pca_transformed.rdd.map(lambda row: row.pca).collect())\n",
        "cluster_assignment2 = np.array(predictions2.rdd.map(lambda row: row.prediction).collect()).reshape(-1,1)\n",
        "cluster_assignment5 = np.array(predictions5.rdd.map(lambda row: row.prediction).collect()).reshape(-1,1)"
      ]
    },
    {
      "cell_type": "code",
      "execution_count": 115,
      "metadata": {
        "id": "3uL0Y-T20iDL"
      },
      "outputs": [],
      "source": [
        "import seaborn as sns\n",
        "import pandas as pd\n",
        "import matplotlib.pyplot as plt"
      ]
    },
    {
      "cell_type": "code",
      "execution_count": 119,
      "metadata": {
        "colab": {
          "base_uri": "https://localhost:8080/",
          "height": 441
        },
        "id": "zh01fQcj4BEq",
        "outputId": "1177053d-ef27-4fb6-8cae-d67b2783354e"
      },
      "outputs": [
        {
          "data": {
            "image/png": "[encoded data removed]",
            "text/plain": [
              "<Figure size 543.75x432 with 1 Axes>"
            ]
          },
          "metadata": {
            "needs_background": "light"
          },
          "output_type": "display_data"
        }
      ],
      "source": [
        "#2 clusters\n",
        "pca_data = np.hstack((x_pca,cluster_assignment2))\n",
        "\n",
        "pca_df = pd.DataFrame(data=pca_data, columns=(\"1st_principal\", \"2nd_principal\",\"cluster_assignment2\"))\n",
        "sns.FacetGrid(pca_df,hue=\"cluster_assignment2\", height=6).map(plt.scatter, '1st_principal', '2nd_principal' ).add_legend()\n",
        "\n",
        "plt.show()"
      ]
    },
    {
      "cell_type": "code",
      "execution_count": 120,
      "metadata": {
        "colab": {
          "base_uri": "https://localhost:8080/",
          "height": 441
        },
        "id": "R9t9xMId4PSj",
        "outputId": "27d02516-f995-4ac7-db6f-8057a94e865e"
      },
      "outputs": [
        {
          "data": {
            "image/png": "[encoded data removed]",
            "text/plain": [
              "<Figure size 543.75x432 with 1 Axes>"
            ]
          },
          "metadata": {
            "needs_background": "light"
          },
          "output_type": "display_data"
        }
      ],
      "source": [
        "#5 clusters\n",
        "pca_data = np.hstack((x_pca,cluster_assignment5))\n",
        "\n",
        "pca_df = pd.DataFrame(data=pca_data, columns=(\"1st_principal\", \"2nd_principal\",\"cluster_assignment5\"))\n",
        "sns.FacetGrid(pca_df,hue=\"cluster_assignment5\", height=6).map(plt.scatter, '1st_principal', '2nd_principal' ).add_legend()\n",
        "\n",
        "plt.show()"
      ]
    },
    {
      "cell_type": "markdown",
      "metadata": {
        "id": "b9KYTP5C4Zgf"
      },
      "source": [
        "Best solution with K-means is 2 clusters since 5 gives completely overlayed groups due to 2D visualization.\n",
        "Also, churn is binary so it makes more sense to keep 2 clusters."
      ]
    },
    {
      "cell_type": "code",
      "execution_count": null,
      "metadata": {
        "id": "1jyyajTe4twz"
      },
      "outputs": [],
      "source": []
    }
  ],
  "metadata": {
    "colab": {
      "provenance": []
    },
    "kernelspec": {
      "display_name": "Python 3",
      "name": "python3"
    },
    "language_info": {
      "name": "python"
    }
  },
  "nbformat": 4,
  "nbformat_minor": 0
}
